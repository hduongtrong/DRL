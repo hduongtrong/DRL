{
 "cells": [
  {
   "cell_type": "markdown",
   "metadata": {},
   "source": [
    "# Assignment 2: Policy Gradient Methods\n"
   ]
  },
  {
   "cell_type": "code",
   "execution_count": 15,
   "metadata": {
    "collapsed": false
   },
   "outputs": [
    {
     "name": "stdout",
     "output_type": "stream",
     "text": [
      "The autoreload extension is already loaded. To reload it, use:\n",
      "  %reload_ext autoreload\n"
     ]
    }
   ],
   "source": [
    "# Automatically reload changes to external code\n",
    "%load_ext autoreload\n",
    "%autoreload 2"
   ]
  },
  {
   "cell_type": "markdown",
   "metadata": {
    "collapsed": true
   },
   "source": [
    "In this assignment, you will implement the \"vanilla\" policy gradient method, i.e., a method that repeatedly computes estimates $\\hat{g}$ of $\\nabla_{\\theta} E[\\sum_t R_t]$ and takes gradient ascent steps $\\theta \\rightarrow \\theta + \\epsilon \\hat{g}$.\n",
    "To keep our code generic, so that we can write the same code to solve multiple MDPs with multiple policy parameterizations, we'll use classes for Policy and MDP. You can view the base classes in the file `rl.py`.\n",
    "\n",
    "We will use a grid-world MDP called FrozenLake.\n",
    "The following code constructs an instance of the MDP, and then prints its documentation."
   ]
  },
  {
   "cell_type": "code",
   "execution_count": 16,
   "metadata": {
    "collapsed": false
   },
   "outputs": [
    {
     "name": "stdout",
     "output_type": "stream",
     "text": [
      "\n",
      "    Winter is here. You and your friends were tossing around a frisbee at the park\n",
      "    when you made a wild throw that left the frisbee out in the middle of the lake.\n",
      "    The water is mostly frozen, but there are a few holes where the ice has melted.\n",
      "    If you step into one of those holes, you'll fall into the freezing water.\n",
      "    At this time, there's an international frisbee shortage, so it's absolutely imperative that\n",
      "    you navigate across the lake and retrieve the disc.\n",
      "    However, the ice is slippery, so you won't always move in the direction you intend.\n",
      "    The surface is described using a grid like the following\n",
      "\n",
      "        SFFF\n",
      "        FHFH\n",
      "        FFFH\n",
      "        HFFG\n",
      "\n",
      "    S : starting point, safe\n",
      "    F : frozen surface, safe\n",
      "    H : hole, fall to your doom\n",
      "    G : goal, where the frisbee is located\n",
      "\n",
      "    The episode ends when you reach the goal or fall in a hole.\n",
      "    You receive a reward of 1 if you reach the goal, and zero otherwise.\n",
      "\n",
      "    \n",
      "-----------------\n"
     ]
    }
   ],
   "source": [
    "from rl import rollout, Policy\n",
    "from frozen_lake import FrozenLake\n",
    "import numpy as np, numpy.random as nr\n",
    "import ipdb\n",
    "\n",
    "np.random.seed(1)\n",
    "\n",
    "map4x4 = [\n",
    "    \"SFFF\",\n",
    "    \"FHFH\",\n",
    "    \"FFFH\",\n",
    "    \"HFFG\"]\n",
    "mdp = FrozenLake(map4x4)\n",
    "\n",
    "# FrozenLake is a MDP with finite state and action that involves navigating across a frozen lake.\n",
    "# (It's conventionally called a \"grid-world\" MDP, as the state space involves points in a 2D grid)\n",
    "# Let's look at the docstring for details\n",
    "print FrozenLake.__doc__\n",
    "print \"-----------------\""
   ]
  },
  {
   "cell_type": "markdown",
   "metadata": {},
   "source": [
    "Next, we will define a random policy and use it to perform a rollout. The rollout data will be used for gradient checking."
   ]
  },
  {
   "cell_type": "code",
   "execution_count": 17,
   "metadata": {
    "collapsed": false
   },
   "outputs": [
    {
     "name": "stdout",
     "output_type": "stream",
     "text": [
      "{'terminated': True, 'rewards': array([ 0.,  0.,  0.,  0.,  0.,  0.,  0.,  0.]), 'observations': array([0, 0, 0, 0, 1, 0, 0, 4]), 'actions': array([1, 0, 3, 3, 0, 0, 0, 1]), 'pdists': array([None, None, None, None, None, None, None, None], dtype=object)}\n"
     ]
    }
   ],
   "source": [
    "class RandomDiscreteActionChooser(Policy):\n",
    "    def __init__(self, n_actions):\n",
    "        self.n_actions = n_actions\n",
    "    def step(self, observation):\n",
    "        return {\"action\":np.array([nr.randint(0, self.n_actions)])}\n",
    "\n",
    "policy = RandomDiscreteActionChooser(mdp.n_actions)\n",
    "    \n",
    "rdata = rollout(mdp, policy, 100)\n",
    "print rdata"
   ]
  },
  {
   "cell_type": "code",
   "execution_count": 18,
   "metadata": {
    "collapsed": false
   },
   "outputs": [],
   "source": [
    "s_n = rdata['observations'] # Vector of states (same as observations since MDP is fully-observed)\n",
    "a_n = rdata['actions'] # Vector of actions (each is an int in {0,1,2,3})\n",
    "n = a_n.shape[0] # Length of trajectory\n",
    "q_n = np.random.randn(n) # Returns (random for the sake of gradient checking)\n",
    "f_sa = np.random.randn(mdp.n_states, mdp.n_actions) # Policy parameter vector. explained shortly."
   ]
  },
  {
   "cell_type": "markdown",
   "metadata": {},
   "source": [
    "Now, a little explanation about the preceding definitions.\n",
    "First, we are using the convention that the letters after the underscore indicate what is indexing the array.\n",
    "For example, `s_n` has a single subscript `n`, meaning that it is a 1D vector, and we will use `n` to index over timesteps.\n",
    "`f_sa` is a matrix, whose first dimension `s` indexes over states, and whose second dimension `a` indexes over actions.\n",
    "This convention helps us avoid errors where axes are mismatched.\n",
    "\n",
    "The policy for our discrete MDP will be encoded by the matrix `f_sa`. The action probabilities are defined by exponentiating this matrix (elementwise) and then normalizing across the `a` dimension so the probabilities add up to 1. I.e., the matrix of probabilities is defined as follows"
   ]
  },
  {
   "cell_type": "code",
   "execution_count": 19,
   "metadata": {
    "collapsed": false
   },
   "outputs": [],
   "source": [
    "def softmax_prob(f_na):    \n",
    "    \"\"\"\n",
    "    Exponentiate f_na and normalize rows to have sum 1\n",
    "    so each row gives a probability distribution over discrete\n",
    "    action set\n",
    "    \"\"\"\n",
    "    prob_nk = np.exp(f_na - f_na.max(axis=1,keepdims=True))\n",
    "    prob_nk /= prob_nk.sum(axis=1,keepdims=True)\n",
    "    return prob_nk"
   ]
  },
  {
   "cell_type": "markdown",
   "metadata": {},
   "source": [
    "### Problem 1: implement policy gradient computation\n",
    "\n",
    "Next, you're going to implement a function for computing the policy gradient.\n",
    "We will define a function called `softmax_policy_checkfunc` -- your function should compute the gradient of it."
   ]
  },
  {
   "cell_type": "code",
   "execution_count": 20,
   "metadata": {
    "collapsed": true
   },
   "outputs": [],
   "source": [
    "def softmax_policy_checkfunc(f_sa, s_n, a_n, q_n):\n",
    "    r\"\"\"\n",
    "    An auxilliary function that's useful for checking the policy gradient\n",
    "    The inputs are \n",
    "    s_n : states (vector of int)\n",
    "    a_n : actions (vector of int)\n",
    "    q_n : returns (vectof of float)\n",
    "\n",
    "    This function returns\n",
    "\n",
    "    \\sum_n \\log \\pi(a_n | s_n) q_n\n",
    "\n",
    "    whose gradient is the policy gradient estimator\n",
    "\n",
    "    \\sum_n \\grad \\log \\pi(a_n | s_n) q_n\n",
    "\n",
    "    \"\"\"\n",
    "    f_na = f_sa[s_n]\n",
    "    p_na = softmax_prob(f_na)\n",
    "    n = s_n.shape[0]\n",
    "    return np.log(p_na[np.arange(n), a_n]).dot(q_n)/n\n",
    "\n",
    "def softmax_policy_gradient(f_sa, s_n, a_n, adv_n):\n",
    "    \"\"\"\n",
    "    Compute policy gradient of policy for discrete MDP, where probabilities\n",
    "    are obtained by exponentiating f_sa and normalizing\n",
    "    \"\"\"\n",
    "    # YOUR CODE HERE >>>>>>\n",
    "    # <<<<<<<< \n",
    "    f_na = f_sa[s_n]\n",
    "    p_na = softmax_prob(f_na)\n",
    "    n = s_n.shape[0]\n",
    "    grad_sa = np.zeros(f_sa.shape)\n",
    "    for i in xrange(n):\n",
    "        this_grad_sa = np.zeros(f_sa.shape)\n",
    "        this_grad_sa[s_n[i], :] = -p_na[i]\n",
    "        this_grad_sa[s_n[i], a_n[i]] += 1\n",
    "        this_grad_sa = this_grad_sa * adv_n[i]\n",
    "        grad_sa += this_grad_sa\n",
    "    \n",
    "    return grad_sa / n\n",
    "    \n"
   ]
  },
  {
   "cell_type": "markdown",
   "metadata": {},
   "source": [
    "We'll verify your function by checking the gradient numerically. You'll need the `numdifftools` module, which computes highly-precise numerical gradient estimates. (To install this module, open up a shell and run `pip install numdifftools`)"
   ]
  },
  {
   "cell_type": "code",
   "execution_count": 21,
   "metadata": {
    "collapsed": false
   },
   "outputs": [],
   "source": [
    "import numdifftools as ndt\n",
    "\n",
    "stepdir = np.random.randn(*f_sa.shape)\n",
    "auxfunc = lambda x: softmax_policy_checkfunc(f_sa+stepdir*x, s_n, a_n, q_n)\n",
    "\n",
    "numgrad = ndt.Derivative(auxfunc)(0)\n",
    "g = softmax_policy_gradient(f_sa, s_n, a_n, q_n)\n",
    "anagrad = (stepdir*g).sum()\n",
    "#ipdb.set_trace()\n",
    "assert abs(numgrad - anagrad) < 1e-10"
   ]
  },
  {
   "cell_type": "markdown",
   "metadata": {},
   "source": [
    "Now you have a function that computes the policy gradient. Now you're ready to write a function that uses it to optimize the policy.\n",
    "First we'll define a Policy class that'll be used by your policy gradient optimization algorithm."
   ]
  },
  {
   "cell_type": "code",
   "execution_count": 22,
   "metadata": {
    "collapsed": true
   },
   "outputs": [],
   "source": [
    "from hw_utils import Message, discount, fmt_row\n",
    "from rl import rollout, pathlength\n",
    "import numpy as np\n",
    "from collections import defaultdict\n",
    "from categorical import cat_sample, cat_entropy, cat_kl\n",
    "import matplotlib.pyplot as plt\n",
    "\n",
    "class FrozenLakeTabularPolicy(Policy):\n",
    "    def __init__(self, n_states):\n",
    "        self.n_states = n_states\n",
    "        self.n_actions = n_actions = 4        \n",
    "        self.f_sa = np.zeros((n_states, n_actions))\n",
    "\n",
    "    def step(self, s_n):\n",
    "        f_na = self.f_sa[s_n]\n",
    "        prob_nk = softmax_prob(f_na)\n",
    "        acts_n = cat_sample(prob_nk)\n",
    "        return {\"action\":acts_n,\n",
    "                \"pdist\" : f_na}\n",
    "    \n",
    "    \n",
    "    def compute_pdists(self, s_n):\n",
    "        return self.f_sa[s_n]\n",
    "\n",
    "    def compute_entropy(self, f_na):\n",
    "        prob_nk = softmax_prob(f_na)\n",
    "        return cat_entropy(prob_nk)\n",
    "\n",
    "    def compute_kl(self, f0_na, f1_na):\n",
    "        p0_na = softmax_prob(f0_na)\n",
    "        p1_na = softmax_prob(f1_na)\n",
    "        return cat_kl(p0_na, p1_na)"
   ]
  },
  {
   "cell_type": "markdown",
   "metadata": {},
   "source": [
    "### Problem 2: Implement policy gradient optimization algorithm\n",
    "\n",
    "Complete the function below, to obtain an algorithm that optimizes the policy by computing policy gradient estimates.\n",
    "Output of a successful implementation is shown below this cell. Your result doesn't need to be exactly the same numerically, but the performance should be on far."
   ]
  },
  {
   "cell_type": "code",
   "execution_count": 23,
   "metadata": {
    "collapsed": false
   },
   "outputs": [
    {
     "name": "stdout",
     "output_type": "stream",
     "text": [
      "        EpRewMean |  EpLenMean | Perplexity |   KLOldNew\n",
      "     0.017+-0.008 |    8.39749 |          4 |  0.0142528\n",
      "     0.016+-0.008 |    8.05221 |    3.93507 |  0.0103554\n"
     ]
    }
   ],
   "source": [
    "def policy_gradient_optimize(mdp, policy,\n",
    "        gamma,\n",
    "        max_pathlength,\n",
    "        timesteps_per_batch,\n",
    "        n_iter,\n",
    "        stepsize):\n",
    "    stat2timeseries = defaultdict(list)\n",
    "    widths = (17,10,10,10,10)\n",
    "    print fmt_row(widths, [\"EpRewMean\",\"EpLenMean\",\"Perplexity\",\"KLOldNew\"])\n",
    "    for i in xrange(n_iter):\n",
    "        total_ts = 0\n",
    "        paths = [] \n",
    "        while True:\n",
    "            path = rollout(mdp, policy, max_pathlength)                \n",
    "            paths.append(path)\n",
    "            total_ts += pathlength(path)\n",
    "            if total_ts > timesteps_per_batch: \n",
    "                break\n",
    "        \n",
    "        # get observations:\n",
    "        obs_no = np.concatenate([path[\"observations\"] for path in paths])\n",
    "\n",
    "        # Your code should compute the policy gradient and update the policy parameters\n",
    "        # you'll need to compute the discounted returns, compute the policy gradient, and update the parameters\n",
    "        # YOUR CODE HERE >>>>>>\n",
    "        # <<<<<<<<\n",
    "        grad = 0\n",
    "        for path in paths:\n",
    "            n = len(path['rewards'])\n",
    "            q_n = ((path['rewards'] * gamma ** np.arange(n) )[::-1].cumsum())[::-1]\n",
    "            # q_n = q_n / gamma ** np.arange(n)\n",
    "            grad += softmax_policy_gradient(policy.f_sa, path['observations'], \n",
    "                                            path['actions'], q_n)\n",
    "        grad = grad / len(paths)\n",
    "        policy.f_sa += stepsize * grad\n",
    "        \n",
    "        pdists = np.concatenate([path[\"pdists\"] for path in paths])\n",
    "        kl = policy.compute_kl(pdists, policy.compute_pdists(obs_no)).mean()\n",
    "        perplexity = np.exp(policy.compute_entropy(pdists).mean())\n",
    "\n",
    "        stats = {  \"EpRewMean\" : np.mean([path[\"rewards\"].sum() for path in paths]),\n",
    "                   \"EpRewSEM\" : np.std([path[\"rewards\"].sum() for path in paths])/np.sqrt(len(paths)),\n",
    "                   \"EpLenMean\" : np.mean([pathlength(path) for path in paths]),\n",
    "                   \"Perplexity\" : perplexity,\n",
    "                   \"KLOldNew\" : kl }\n",
    "        print fmt_row(widths, ['%.3f+-%.3f'%(stats[\"EpRewMean\"], stats['EpRewSEM']), stats['EpLenMean'], stats['Perplexity'], stats['KLOldNew']])\n",
    "        \n",
    "        \n",
    "        for (name,val) in stats.items():\n",
    "            stat2timeseries[name].append(val)\n",
    "    return stat2timeseries\n",
    "            \n",
    "policy = FrozenLakeTabularPolicy(mdp.n_states)\n",
    "\n",
    "np.random.seed(0)            \n",
    "stat2ts = policy_gradient_optimize(mdp, policy,\n",
    "                gamma=.98,\n",
    "                max_pathlength=100,\n",
    "                timesteps_per_batch=2000,\n",
    "                n_iter=2,\n",
    "                stepsize=400)"
   ]
  },
  {
   "cell_type": "code",
   "execution_count": 24,
   "metadata": {
    "collapsed": true
   },
   "outputs": [],
   "source": [
    "# Output of successful implementation for problem 2...\n",
    "\n",
    "#      0.232+-0.042 |    20.2525 |     1.7738 | 0.00553472\n",
    "#      0.180+-0.041 |    22.5281 |    1.64021 | 0.000818475\n",
    "#      0.286+-0.046 |    20.4592 |    1.65031 | 0.00210285\n",
    "#      0.310+-0.050 |    23.1379 |    1.58822 | 0.000949984\n",
    "#      0.229+-0.043 |    21.1667 |    1.51748 | 0.00126626\n",
    "#      0.333+-0.053 |    25.7821 |    1.45515 | 0.00517389\n",
    "#      0.279+-0.054 |    29.7794 |    1.45849 | 0.00126206\n",
    "#      0.279+-0.054 |    29.8382 |    1.39328 | 0.000978533\n",
    "#      0.405+-0.057 |     27.473 |    1.36296 | 0.00081737\n",
    "#      0.395+-0.056 |    26.5921 |    1.33036 | 0.000578766\n",
    "#      0.439+-0.061 |    30.9394 |    1.29982 | 0.000903682\n",
    "#      0.403+-0.062 |    32.6935 |    1.28342 |  0.0003479\n",
    "#      0.461+-0.057 |    26.3421 |    1.30297 | 0.000425174\n",
    "#      0.368+-0.058 |    30.6912 |    1.27384 | 0.000224248\n",
    "#      0.545+-0.061 |    30.5758 |     1.2691 | 0.00110955\n",
    "#      0.508+-0.062 |    31.2308 |    1.26778 | 0.000117507\n",
    "#      0.391+-0.061 |    31.5156 |      1.242 | 0.000249331\n",
    "#      0.365+-0.061 |    31.9048 |     1.2347 | 0.000131674\n",
    "#      0.492+-0.064 |    32.8852 |    1.25998 | 0.000360727\n",
    "#      0.394+-0.058 |    28.4648 |    1.21109 | 0.000364956\n",
    "#      0.419+-0.063 |    32.4032 |    1.22287 | 0.000336991\n",
    "#      0.582+-0.067 |    37.6909 |    1.21275 | 0.00017788\n",
    "#      0.485+-0.062 |    30.4545 |    1.24474 | 0.000368472\n",
    "#      0.509+-0.067 |    36.4909 |    1.19584 | 0.000191174\n",
    "#      0.576+-0.064 |    33.9831 |     1.1816 | 8.99578e-05\n",
    "#      0.690+-0.061 |    35.1379 |    1.17238 | 0.000160158\n",
    "#      0.627+-0.063 |    34.1356 |    1.16137 | 8.35832e-05\n",
    "#      0.500+-0.071 |      40.34 |    1.16211 | 9.52723e-05\n",
    "#      0.464+-0.067 |    36.8036 |    1.17209 | 8.54947e-05\n",
    "#      0.509+-0.066 |    35.6491 |    1.16041 | 7.82523e-05\n",
    "#      0.632+-0.064 |    35.1579 |    1.15874 | 7.54936e-05\n",
    "#      0.582+-0.067 |    36.5273 |    1.15924 | 8.17684e-05\n",
    "#      0.630+-0.066 |    37.3704 |     1.1467 | 0.000170618\n",
    "#      0.583+-0.064 |    33.5167 |    1.15033 | 4.80961e-05\n",
    "#      0.662+-0.057 |    30.6324 |    1.13978 | 7.26294e-05\n",
    "#      0.618+-0.066 |    36.8545 |    1.13128 | 3.96185e-05\n",
    "#      0.529+-0.070 |    39.8431 |     1.1494 | 9.74017e-05\n",
    "#      0.589+-0.066 |    36.4107 |    1.13971 | 0.000125295\n",
    "#      0.644+-0.062 |    34.1695 |    1.12859 | 4.46991e-05\n",
    "#      0.625+-0.065 |    36.6071 |    1.11733 | 3.96966e-05\n",
    "#      0.526+-0.066 |    36.1053 |    1.13024 | 7.80788e-05\n",
    "#      0.667+-0.061 |    33.8667 |    1.10236 | 0.000207277\n",
    "#      0.617+-0.063 |      33.85 |    1.10662 | 6.32027e-05\n",
    "#      0.529+-0.070 |    39.8627 |    1.11525 | 2.46512e-05\n",
    "#      0.577+-0.069 |    38.7885 |    1.11533 | 1.71757e-05\n",
    "#      0.656+-0.061 |     34.082 |    1.14483 | 0.000279053\n",
    "#      0.709+-0.061 |    37.0182 |     1.1183 | 5.70132e-05\n",
    "#      0.589+-0.066 |    36.0536 |    1.13235 | 3.61136e-05\n",
    "#      0.714+-0.060 |    36.3929 |    1.12589 | 7.89316e-05\n",
    "#      0.617+-0.063 |    33.6333 |    1.11578 | 0.000110617\n",
    "#      0.661+-0.062 |    34.9661 |    1.11546 | 0.000102611\n",
    "#      0.661+-0.062 |    34.1864 |    1.12734 | 0.000132361\n",
    "#      0.660+-0.069 |    42.7872 |    1.10657 | 0.000389893\n",
    "#      0.732+-0.059 |    35.8036 |    1.12287 | 0.000284315\n",
    "#      0.569+-0.065 |    34.9483 |    1.11962 | 0.000197253\n",
    "\n",
    "# Several plots can be generated from the results:"
   ]
  },
  {
   "cell_type": "code",
   "execution_count": 25,
   "metadata": {
    "collapsed": false
   },
   "outputs": [
    {
     "data": {
      "image/png": "[encoded data removed]",
      "text/plain": [
       "<matplotlib.figure.Figure at 0x107ef1790>"
      ]
     },
     "metadata": {},
     "output_type": "display_data"
    },
    {
     "data": {
      "image/png": "[encoded data removed]",
      "text/plain": [
       "<matplotlib.figure.Figure at 0x10aac3590>"
      ]
     },
     "metadata": {},
     "output_type": "display_data"
    },
    {
     "data": {
      "image/png": "[encoded data removed]",
      "text/plain": [
       "<matplotlib.figure.Figure at 0x10aac3490>"
      ]
     },
     "metadata": {},
     "output_type": "display_data"
    },
    {
     "data": {
      "image/png": "[encoded data removed]",
      "text/plain": [
       "<matplotlib.figure.Figure at 0x10ac46f90>"
      ]
     },
     "metadata": {},
     "output_type": "display_data"
    }
   ],
   "source": [
    "%matplotlib inline\n",
    "plt.figure()\n",
    "plt.title(\"Episode Reward\")\n",
    "EpRewMean = np.array(stat2ts[\"EpRewMean\"])\n",
    "EpRewStd = np.array(stat2ts[\"EpRewSEM\"])\n",
    "plt.errorbar(np.arange(len(EpRewMean)), EpRewMean, yerr=EpRewStd, errorevery=5, linewidth=1)\n",
    "plt.figure()\n",
    "plt.title(\"Mean Episode Length\")\n",
    "plt.plot(stat2ts[\"EpLenMean\"])\n",
    "plt.figure()\n",
    "plt.title(\"Perplexity\")\n",
    "plt.plot(stat2ts[\"Perplexity\"])\n",
    "plt.figure()\n",
    "plt.title(\"Mean KL Divergence Between Old & New Policies\")\n",
    "plt.plot(stat2ts[\"KLOldNew\"]);"
   ]
  },
  {
   "cell_type": "markdown",
   "metadata": {},
   "source": [
    "Note that the perplexity goes down to 1, corresponding to a deterministic policy."
   ]
  },
  {
   "cell_type": "markdown",
   "metadata": {},
   "source": [
    "Let's \"plot\" the learned policy:"
   ]
  },
  {
   "cell_type": "code",
   "execution_count": 26,
   "metadata": {
    "collapsed": false
   },
   "outputs": [
    {
     "name": "stdout",
     "output_type": "stream",
     "text": [
      "action:  None\n",
      "\u001b[41mS\u001b[0mFFF\n",
      "FHFH\n",
      "FFFH\n",
      "HFFG\n",
      "action:  LEFT\n",
      "\u001b[41mS\u001b[0mFFF\n",
      "FHFH\n",
      "FFFH\n",
      "HFFG\n",
      "action:  LEFT\n",
      "SFFF\n",
      "\u001b[41mF\u001b[0mHFH\n",
      "FFFH\n",
      "HFFG\n",
      "action:  RIGHT\n",
      "SFFF\n",
      "F\u001b[41mH\u001b[0mFH\n",
      "FFFH\n",
      "HFFG\n",
      "terminated after 2 timesteps\n"
     ]
    }
   ],
   "source": [
    "from rl import animate_rollout\n",
    "animate_rollout(mdp,policy,delay=.001,horizon=100)"
   ]
  },
  {
   "cell_type": "markdown",
   "metadata": {},
   "source": [
    "### Problem 3: Implement some enhancement or variation on policy gradient optimization algorithm\n",
    "\n",
    "Some possibilities:\n",
    "- add a state-dependent baseline function\n",
    "- use RMSProp, momentum gradient descent, or ADAM as the underlying stochastic optimization algorithm instead of SGD\n",
    "- implem..ent some variant of the natural gradient algorithm or trust region policy optimization\n",
    "- something else that you invented\n",
    "\n",
    "Run your algorithm on the mdp above (with a 4x4 grid), and also run it on the following 8x8 grid.\n",
    "Plot the learning curve you obtain. You will probably have to tune stepsize, and it might help to adjust the discount factor gamma.\n",
    "\n",
    "    map8x8 = [\n",
    "        \"SFFFFFFF\",\n",
    "        \"FFFFFFFF\",\n",
    "        \"FFFHFFFF\",\n",
    "        \"FFFFFHFF\",\n",
    "        \"FFFHFFFF\",\n",
    "        \"FHHFFFHF\",\n",
    "        \"FHFFHFHF\",\n",
    "        \"FFFHFFFG\"\n",
    "    ]\n"
   ]
  },
  {
   "cell_type": "code",
   "execution_count": 27,
   "metadata": {
    "collapsed": false
   },
   "outputs": [
    {
     "name": "stdout",
     "output_type": "stream",
     "text": [
      "        EpRewMean |  EpLenMean | Perplexity |   KLOldNew\n",
      "     0.000+-0.000 |     32.036 |          4 |          0\n",
      "     0.004+-0.004 |    33.2365 |          4 | 8.32742e-06\n",
      "     0.000+-0.000 |    28.7806 |    3.99997 | 7.0698e-06\n",
      "     0.000+-0.000 |    33.0617 |    3.99984 |  8.492e-06\n",
      "     0.004+-0.004 |    33.3792 |    3.99969 | 1.19429e-05\n",
      "     0.004+-0.004 |    33.7679 |    3.99942 | 1.29756e-05\n",
      "     0.000+-0.000 |    32.5732 |    3.99907 | 1.2944e-05\n",
      "     0.000+-0.000 |    32.7642 |    3.99885 | 8.62597e-06\n",
      "     0.016+-0.008 |     32.417 |    3.99866 | 3.75514e-05\n",
      "     0.000+-0.000 |     31.179 |    3.99796 | 3.45479e-05\n",
      "     0.008+-0.005 |    30.9923 |     3.9963 | 3.36683e-05\n",
      "     0.000+-0.000 |    32.5366 |    3.99507 | 3.46604e-05\n",
      "     0.004+-0.004 |    32.4615 |    3.99469 | 3.47215e-05\n",
      "     0.008+-0.006 |    33.9578 |    3.99365 | 5.01322e-05\n",
      "     0.008+-0.006 |    31.3843 |    3.99389 | 0.000286752\n",
      "     0.004+-0.004 |     31.626 |    3.99097 | 0.000281988\n",
      "     0.000+-0.000 |    32.8816 |    3.98706 | 0.000237757\n",
      "     0.000+-0.000 |     30.705 |    3.97729 | 0.000238727\n",
      "     0.008+-0.005 |    30.1805 |     3.9653 | 0.000339071\n",
      "     0.000+-0.000 |    33.1074 |     3.9607 | 0.000271415\n",
      "     0.008+-0.006 |    31.8845 |    3.94719 | 0.000276969\n",
      "     0.004+-0.004 |    31.5433 |    3.92815 | 0.000269023\n",
      "     0.004+-0.004 |    34.0851 |    3.90813 | 0.00028197\n",
      "     0.004+-0.004 |    31.2062 |    3.90393 | 0.000243947\n",
      "     0.014+-0.007 |    29.2464 |    3.88482 | 0.000385703\n",
      "     0.012+-0.007 |    31.2617 |    3.86609 | 0.000387916\n",
      "     0.015+-0.008 |    30.5817 |    3.82907 | 0.000461053\n",
      "     0.004+-0.004 |    29.4596 |    3.82793 | 0.000356474\n",
      "     0.014+-0.007 |    28.5623 |    3.81568 | 0.000323917\n",
      "     0.016+-0.008 |     31.664 |    3.76236 | 0.000389122\n",
      "     0.011+-0.006 |    28.5893 |    3.73385 | 0.000374419\n",
      "     0.016+-0.008 |    31.3594 |    3.68932 | 0.000388192\n",
      "     0.033+-0.011 |    29.3663 |    3.64641 | 0.000570021\n",
      "     0.024+-0.010 |     32.504 |    3.61311 | 0.000566801\n",
      "     0.023+-0.009 |    31.2773 |    3.57502 | 0.000588554\n",
      "     0.013+-0.007 |    34.3991 |    3.53379 | 0.000588647\n",
      "     0.038+-0.012 |    30.8231 |    3.43859 | 0.000585417\n",
      "     0.021+-0.008 |    27.7474 |    3.49241 | 0.000445337\n",
      "     0.030+-0.011 |    30.6046 |    3.31663 | 0.000923617\n",
      "     0.027+-0.010 |    31.0271 |    3.32616 | 0.000702487\n",
      "     0.033+-0.011 |    29.6444 |    3.30909 | 0.000623404\n",
      "     0.023+-0.009 |    30.5649 |    3.29273 | 0.000597303\n",
      "     0.047+-0.013 |    31.4275 |      3.125 | 0.00115838\n",
      "     0.043+-0.013 |    31.5625 |    3.15293 | 0.000567224\n",
      "     0.065+-0.015 |     30.542 |    3.01531 | 0.00073383\n",
      "     0.073+-0.016 |    31.1004 |    2.88706 | 0.00077659\n",
      "     0.072+-0.016 |    29.0253 |    2.94202 | 0.000840377\n",
      "     0.090+-0.018 |    29.9963 |    2.86139 | 0.000831506\n",
      "     0.060+-0.015 |    31.8805 |    2.70293 | 0.00109123\n",
      "     0.096+-0.019 |    33.4458 |    2.59549 | 0.000774658\n",
      "     0.120+-0.020 |    31.0426 |    2.59882 | 0.000651211\n",
      "     0.082+-0.018 |    32.8238 |     2.4812 | 0.000770036\n",
      "     0.075+-0.017 |    31.5197 |    2.52876 | 0.000876554\n",
      "     0.100+-0.019 |    33.5833 |    2.36141 | 0.00103155\n",
      "     0.109+-0.021 |    34.9607 |    2.26401 | 0.000768559\n",
      "     0.137+-0.023 |    35.4027 |    2.23296 | 0.000671927\n",
      "     0.115+-0.020 |    33.0905 |    2.32053 | 0.000690821\n",
      "     0.201+-0.027 |    36.5936 |    2.03962 | 0.00114307\n",
      "     0.151+-0.024 |    36.7032 |    2.06981 | 0.000971969\n",
      "     0.143+-0.024 |    37.1659 |    1.98769 | 0.000642175\n",
      "     0.141+-0.022 |    33.3942 |     2.0446 | 0.000592204\n",
      "     0.189+-0.028 |    39.9254 |    1.90776 | 0.000458967\n",
      "     0.143+-0.023 |     33.789 |    1.99891 | 0.000364325\n",
      "     0.210+-0.028 |    39.0293 |    1.84995 | 0.00097391\n",
      "     0.208+-0.029 |    39.6089 |     1.8487 | 0.000509424\n",
      "     0.200+-0.029 |    41.0821 |    1.77933 | 0.000697948\n",
      "     0.158+-0.026 |    40.9388 |    1.83788 | 0.000308618\n",
      "     0.227+-0.028 |    36.8409 |    1.77773 | 0.000501512\n",
      "     0.167+-0.025 |    36.1396 |    1.79255 | 0.000334709\n",
      "     0.232+-0.031 |    42.3632 |    1.72274 | 0.000284683\n",
      "     0.182+-0.027 |    39.4236 |    1.75404 | 0.000337372\n",
      "     0.177+-0.025 |    35.6283 |    1.76949 | 0.000467254\n",
      "     0.230+-0.029 |    37.6056 |    1.69184 |   0.000453\n",
      "     0.267+-0.032 |    42.8342 |    1.60951 | 0.00206644\n",
      "     0.268+-0.032 |    42.1474 |    1.62083 | 0.00219905\n",
      "     0.358+-0.037 |    48.5152 |    1.51615 | 0.00249173\n",
      "     0.289+-0.033 |    42.9626 |     1.5244 | 0.00197495\n",
      "     0.234+-0.030 |    39.8706 |     1.5631 | 0.00121367\n",
      "     0.302+-0.034 |    44.8268 |     1.5147 | 0.000780029\n",
      "     0.274+-0.032 |    42.3211 |    1.45467 | 0.000493006\n",
      "     0.256+-0.031 |    39.5567 |    1.52482 | 0.000532789\n",
      "     0.386+-0.038 |    48.2771 |     1.3566 | 0.000377334\n",
      "     0.269+-0.032 |    40.6294 |      1.414 | 0.00047128\n",
      "     0.232+-0.031 |       42.4 |    1.42682 | 0.000460327\n",
      "     0.261+-0.033 |    44.5722 |    1.43801 | 0.000412822\n",
      "     0.350+-0.038 |    51.0828 |    1.32657 | 0.000463882\n",
      "     0.296+-0.033 |    43.4785 |    1.39676 | 0.000390356\n",
      "     0.258+-0.031 |    40.6919 |    1.37797 | 0.000214357\n",
      "     0.299+-0.032 |    37.9858 |    1.38463 | 0.00049901\n",
      "     0.254+-0.031 |     41.772 |    1.38584 | 0.000436824\n",
      "     0.292+-0.033 |    41.2513 |    1.36964 | 0.000466115\n",
      "     0.299+-0.034 |    45.2486 |     1.3299 | 0.000523251\n",
      "     0.316+-0.034 |    42.8717 |    1.31982 | 0.000563437\n",
      "     0.320+-0.035 |    45.0618 |     1.2997 | 0.000408278\n",
      "     0.254+-0.031 |    40.6853 |    1.38532 | 0.000523217\n",
      "     0.313+-0.035 |    46.0168 |     1.2822 | 0.000280696\n",
      "     0.325+-0.036 |    48.2544 |    1.26596 | 0.000453547\n",
      "     0.333+-0.034 |    41.6719 |    1.31277 | 0.000549806\n",
      "     0.253+-0.031 |    41.3351 |    1.32978 | 0.000648336\n",
      "     0.271+-0.032 |    40.5829 |    1.27761 | 0.000573895\n",
      "     0.289+-0.034 |    46.5723 |    1.23468 | 0.000277337\n",
      "     0.360+-0.037 |    48.9878 |    1.21617 | 0.000197151\n",
      "     0.310+-0.035 |    46.8713 |    1.21634 | 0.000237293\n",
      "     0.352+-0.038 |    49.4506 |    1.20751 | 0.000269333\n",
      "     0.357+-0.037 |    46.9942 |    1.20867 | 0.00021499\n",
      "     0.353+-0.038 |    51.4872 |    1.16123 | 0.000176727\n",
      "     0.271+-0.032 |    42.6755 |    1.21535 | 0.00018948\n",
      "     0.354+-0.040 |    55.9861 |    1.15094 | 0.000142262\n",
      "     0.409+-0.038 |    49.0427 |    1.16231 | 0.00014142\n",
      "     0.384+-0.038 |    48.9329 |    1.15226 | 0.000218754\n",
      "     0.243+-0.032 |    45.6497 |     1.1706 | 0.000227408\n",
      "     0.353+-0.039 |    53.5267 |    1.14158 | 0.000137361\n",
      "     0.422+-0.043 |    59.3333 |       1.12 | 0.000165583\n",
      "     0.348+-0.038 |    50.8165 |    1.13026 | 0.000268495\n",
      "     0.428+-0.041 |    55.5655 |    1.11903 | 0.000340006\n",
      "     0.423+-0.042 |     58.562 |    1.12224 | 0.000562653\n",
      "     0.536+-0.047 |    71.7679 |    1.10708 | 0.000845959\n",
      "     0.458+-0.045 |    66.9167 |    1.11224 | 0.000838283\n",
      "     0.538+-0.046 |    68.8034 |    1.11823 | 0.000639305\n",
      "     0.425+-0.047 |    71.2566 |    1.10325 | 0.000524655\n",
      "     0.573+-0.046 |    68.5385 |    1.09953 | 0.000490526\n",
      "     0.595+-0.047 |    72.8559 |      1.088 | 0.000148799\n",
      "     0.681+-0.048 |       85.5 |    1.08107 | 0.000110214\n",
      "     0.556+-0.048 |    74.3056 |    1.08945 | 6.65008e-05\n",
      "     0.620+-0.051 |    87.9239 |    1.08078 | 4.64767e-05\n",
      "     0.653+-0.048 |    81.9286 |    1.05936 | 4.46412e-05\n",
      "     0.604+-0.049 |    80.5248 |    1.07953 | 6.5007e-05\n",
      "     0.602+-0.045 |    68.5254 |    1.09054 | 5.07145e-05\n",
      "     0.586+-0.050 |    80.8283 |    1.06862 | 2.99075e-05\n",
      "     0.545+-0.050 |    81.4242 |    1.07467 | 1.7183e-05\n",
      "     0.576+-0.052 |    87.1957 |    1.08048 | 6.29168e-05\n",
      "     0.625+-0.047 |    77.4423 |     1.0752 | 0.000259623\n",
      "     0.582+-0.052 |    89.2857 |     1.0735 | 0.000131655\n",
      "     0.624+-0.045 |    68.6838 |    1.09489 | 7.41981e-05\n",
      "     0.592+-0.050 |    83.2959 |    1.07722 | 0.000596339\n",
      "     0.570+-0.050 |      81.84 |    1.09476 | 0.000150715\n",
      "     0.495+-0.049 |    77.8155 |    1.09383 | 0.000123335\n",
      "     0.496+-0.045 |    66.4959 |     1.1246 | 0.000170732\n",
      "     0.543+-0.049 |    76.5333 |    1.12159 | 0.000200666\n",
      "     0.589+-0.048 |    74.9346 |    1.09689 | 0.000163476\n",
      "     0.564+-0.046 |    69.2137 |    1.10691 | 3.13115e-05\n",
      "     0.523+-0.048 |    73.9633 |    1.12765 | 6.47853e-05\n",
      "     0.540+-0.044 |    63.6825 |    1.12418 | 0.000422241\n",
      "     0.518+-0.047 |    71.5446 |    1.13205 | 7.08597e-05\n",
      "     0.573+-0.049 |     77.767 |    1.11056 | 0.000263367\n",
      "     0.492+-0.046 |     67.175 |    1.12952 | 0.000407396\n",
      "     0.567+-0.049 |    77.0385 |    1.11135 | 2.68144e-05\n",
      "     0.578+-0.047 |    73.9083 |    1.10613 | 0.00049643\n",
      "     0.556+-0.050 |    81.1515 |    1.10197 | 0.000452794\n",
      "     0.598+-0.049 |    79.7353 |    1.10871 |  0.0018049\n",
      "     0.570+-0.050 |      81.11 |    1.10457 | 9.8527e-05\n",
      "     0.566+-0.047 |    71.6283 |    1.10955 | 3.77818e-05\n",
      "     0.649+-0.049 |    85.2872 |    1.08774 | 7.66677e-05\n",
      "     0.568+-0.051 |    85.3895 |    1.09431 | 0.000415623\n",
      "     0.663+-0.046 |    77.2212 |    1.10356 | 0.000396248\n",
      "     0.617+-0.050 |    85.4149 |    1.08239 | 0.000297642\n",
      "     0.607+-0.045 |    68.4872 |    1.07977 | 0.000100743\n",
      "     0.596+-0.048 |    77.7308 |      1.071 | 9.72847e-05\n",
      "     0.634+-0.048 |    79.8317 |    1.06409 | 6.64828e-05\n",
      "     0.630+-0.048 |      80.76 |    1.06941 | 5.22027e-05\n",
      "     0.564+-0.046 |    68.6068 |    1.08398 | 5.78259e-05\n",
      "     0.657+-0.046 |    77.3429 |    1.05626 | 3.66988e-05\n",
      "     0.625+-0.047 |    77.0288 |    1.06142 | 1.50749e-05\n",
      "     0.648+-0.047 |     76.819 |    1.04765 | 1.42069e-05\n",
      "     0.720+-0.047 |    86.1505 |    1.04688 | 2.36339e-05\n",
      "     0.674+-0.048 |    84.8316 |    1.04101 | 2.03734e-05\n",
      "     0.637+-0.048 |    78.6569 |    1.05321 | 2.08969e-05\n",
      "     0.747+-0.044 |    80.9697 |    1.04481 | 1.83678e-05\n",
      "     0.696+-0.048 |    86.9783 |    1.04799 | 2.1058e-05\n",
      "     0.650+-0.048 |      80.71 |    1.04895 | 1.6017e-05\n",
      "     0.660+-0.047 |    77.7087 |    1.04383 | 1.35832e-05\n",
      "     0.604+-0.049 |    79.3069 |    1.05569 | 1.24387e-05\n",
      "     0.495+-0.051 |    85.5979 |    1.05218 | 9.59808e-06\n",
      "     0.733+-0.048 |    93.3372 |      1.044 | 1.17184e-05\n",
      "     0.680+-0.047 |      80.51 |    1.03824 | 2.37118e-05\n",
      "     0.560+-0.050 |      80.47 |    1.05072 | 2.48482e-05\n",
      "     0.676+-0.046 |    79.1275 |    1.03789 | 1.81443e-05\n",
      "     0.773+-0.045 |    92.2955 |    1.03898 | 1.82007e-05\n",
      "     0.633+-0.046 |     73.578 |    1.04382 | 1.64229e-05\n",
      "     0.607+-0.047 |    74.8318 |    1.04335 | 1.45832e-05\n",
      "     0.551+-0.050 |    82.2551 |    1.04602 | 1.10893e-05\n",
      "     0.651+-0.046 |    76.4811 |    1.04849 | 1.39283e-05\n",
      "     0.624+-0.048 |    81.5446 |    1.04314 | 1.28328e-05\n",
      "     0.596+-0.051 |    85.4681 |    1.03589 | 9.04701e-06\n",
      "     0.619+-0.049 |    82.6701 |    1.05258 | 5.92914e-06\n",
      "     0.684+-0.048 |    84.3789 |     1.0531 | 9.43671e-06\n",
      "     0.674+-0.048 |    84.6316 |    1.04594 | 7.28951e-06\n",
      "     0.688+-0.047 |    83.3958 |     1.0324 | 3.52629e-06\n",
      "     0.537+-0.048 |    74.2593 |     1.0457 | 3.63671e-06\n",
      "     0.651+-0.051 |     93.186 |    1.03461 | 6.17373e-06\n",
      "     0.667+-0.048 |         84 |    1.03313 | 4.55681e-06\n",
      "     0.699+-0.048 |    86.0753 |    1.03797 | 4.11314e-06\n",
      "     0.524+-0.049 |    76.5143 |    1.03709 | 2.53058e-06\n",
      "     0.667+-0.046 |    76.4952 |    1.05856 | 7.15739e-06\n",
      "     0.701+-0.049 |    92.6552 |     1.0349 | 3.0506e-06\n",
      "     0.639+-0.049 |    82.9381 |     1.0357 | 3.26494e-06\n",
      "     0.689+-0.045 |    75.8962 |    1.04895 | 3.68501e-06\n",
      "     0.723+-0.046 |    85.5638 |    1.03917 | 2.60325e-06\n",
      "     0.654+-0.047 |    77.1538 |    1.04716 | 2.63165e-06\n",
      "     0.608+-0.050 |     83.268 |    1.03179 | 2.04963e-06\n"
     ]
    }
   ],
   "source": [
    "def policy_gradient_optimize_nesterov(mdp, policy,\n",
    "        gamma,\n",
    "        max_pathlength,\n",
    "        timesteps_per_batch,\n",
    "        n_iter,\n",
    "        stepsize,\n",
    "        beta = .95):\n",
    "    stat2timeseries = defaultdict(list)\n",
    "    widths = (17,10,10,10,10)\n",
    "    print fmt_row(widths, [\"EpRewMean\",\"EpLenMean\",\"Perplexity\",\"KLOldNew\"])\n",
    "    \n",
    "    fprev_sa = policy.f_sa\n",
    "    for i in xrange(n_iter):\n",
    "        total_ts = 0\n",
    "        paths = [] \n",
    "        while True:\n",
    "            path = rollout(mdp, policy, max_pathlength)                \n",
    "            paths.append(path)\n",
    "            total_ts += pathlength(path)\n",
    "            if total_ts > timesteps_per_batch: \n",
    "                break\n",
    "        \n",
    "        # get observations:\n",
    "        obs_no = np.concatenate([path[\"observations\"] for path in paths])\n",
    "        z_sa = policy.f_sa + beta * (policy.f_sa - fprev_sa) # Momemtum term\n",
    "        grad = 0\n",
    "        for path in paths:\n",
    "            n = len(path['rewards'])\n",
    "            q_n = ((path['rewards'] * gamma ** np.arange(n) )[::-1].cumsum())[::-1]\n",
    "            q_n = q_n / gamma ** np.arange(n) # Biased estimator but doesn't decay as fast\n",
    "            grad += softmax_policy_gradient(z_sa, path['observations'], \n",
    "                                            path['actions'], q_n)\n",
    "        grad = grad / len(paths)\n",
    "        fprev_sa = policy.f_sa\n",
    "        policy.f_sa = z_sa + stepsize * grad\n",
    "        \n",
    "        pdists = np.concatenate([path[\"pdists\"] for path in paths])\n",
    "        kl = policy.compute_kl(pdists, policy.compute_pdists(obs_no)).mean()\n",
    "        perplexity = np.exp(policy.compute_entropy(pdists).mean())\n",
    "\n",
    "        stats = {  \"EpRewMean\" : np.mean([path[\"rewards\"].sum() for path in paths]),\n",
    "                   \"EpRewSEM\" : np.std([path[\"rewards\"].sum() for path in paths])/np.sqrt(len(paths)),\n",
    "                   \"EpLenMean\" : np.mean([pathlength(path) for path in paths]),\n",
    "                   \"Perplexity\" : perplexity,\n",
    "                   \"KLOldNew\" : kl }\n",
    "        print fmt_row(widths, ['%.3f+-%.3f'%(stats[\"EpRewMean\"], stats['EpRewSEM']), stats['EpLenMean'], stats['Perplexity'], stats['KLOldNew']])\n",
    "        \n",
    "        \n",
    "        for (name,val) in stats.items():\n",
    "            stat2timeseries[name].append(val)\n",
    "    return stat2timeseries\n",
    "\n",
    "map8x8 = [\n",
    "    \"SFFFFFFF\",\n",
    "    \"FFFFFFFF\",\n",
    "    \"FFFHFFFF\",\n",
    "    \"FFFFFHFF\",\n",
    "    \"FFFHFFFF\",\n",
    "    \"FHHFFFHF\",\n",
    "    \"FHFFHFHF\",\n",
    "    \"FFFHFFFG\"\n",
    "]\n",
    "mdp8 = FrozenLake(map8x8)\n",
    "policy = FrozenLakeTabularPolicy(mdp8.n_states)\n",
    "\n",
    "np.random.seed(0)\n",
    "stat2ts = policy_gradient_optimize_nesterov(mdp8, policy,\n",
    "                gamma=.9,\n",
    "                max_pathlength=400,\n",
    "                timesteps_per_batch=8000,\n",
    "                n_iter=200,\n",
    "                stepsize=1000)\n"
   ]
  },
  {
   "cell_type": "code",
   "execution_count": 28,
   "metadata": {
    "collapsed": false
   },
   "outputs": [
    {
     "data": {
      "image/png": "[encoded data removed]",
      "text/plain": [
       "<matplotlib.figure.Figure at 0x10add2750>"
      ]
     },
     "metadata": {},
     "output_type": "display_data"
    },
    {
     "data": {
      "image/png": "[encoded data removed]",
      "text/plain": [
       "<matplotlib.figure.Figure at 0x10a348990>"
      ]
     },
     "metadata": {},
     "output_type": "display_data"
    },
    {
     "data": {
      "image/png": "[encoded data removed]",
      "text/plain": [
       "<matplotlib.figure.Figure at 0x10a348e50>"
      ]
     },
     "metadata": {},
     "output_type": "display_data"
    },
    {
     "data": {
      "image/png": "[encoded data removed]",
      "text/plain": [
       "<matplotlib.figure.Figure at 0x10a463810>"
      ]
     },
     "metadata": {},
     "output_type": "display_data"
    }
   ],
   "source": [
    "%matplotlib inline\n",
    "plt.figure()\n",
    "plt.title(\"Episode Reward\")\n",
    "EpRewMean = np.array(stat2ts[\"EpRewMean\"])\n",
    "EpRewStd = np.array(stat2ts[\"EpRewSEM\"])\n",
    "plt.errorbar(np.arange(len(EpRewMean)), EpRewMean, yerr=EpRewStd, errorevery=5, linewidth=1)\n",
    "plt.figure()\n",
    "plt.title(\"Mean Episode Length\")\n",
    "plt.plot(stat2ts[\"EpLenMean\"])\n",
    "plt.figure()\n",
    "plt.title(\"Perplexity\")\n",
    "plt.plot(stat2ts[\"Perplexity\"])\n",
    "plt.figure()\n",
    "plt.title(\"Mean KL Divergence Between Old & New Policies\")\n",
    "plt.plot(stat2ts[\"KLOldNew\"]);"
   ]
  },
  {
   "cell_type": "markdown",
   "metadata": {},
   "source": [
    "### Problem 4: Experiment with Atari domain\n",
    "\n",
    "For this problem, you will experiment with the Atari domain. You will learn a policy to play Atari using the RAM state of the Atari emulator as input. It's significantly easier and faster to train that using images; however, it's still a highly non-trivial problem. In the instructors' experience, methods that work well on RAM also work well on images.\n",
    "\n",
    "First, build the required libraries by navigating into the code directory and running\n",
    "\n",
    "    ./setup_ale.sh\n",
    "\n",
    "You have two choices\n",
    "1. Use the instructor's implementation of *Proximal Policy Optimization* (A variant of [Trust Region Policy Optimization](http://arxiv.org/abs/1502.05477) which is simpler because it solves an unconstrained optimization problem). The code is provided in `ppo.py`. It requires [CGT](http://rll.berkeley.edu/cgt). Implement some variation on this algorithm. Some possibilities:\n",
    "   - Use a neural network value function instead of a linear value function\n",
    "   - Adjust the KL divergence penalty coefficient in an adaptive way so that the KL divergence is roughly fixed across iterations.\n",
    "   - Use SGD instead of LBFGS on each batch\n",
    "   - Use a different kind of discounting scheme, e.g. hyperbolic discounts\n",
    "   - Vary the neural network architecture of the policy\n",
    "   - Something else that you invented\n",
    "2. Implement a policy gradient method yourself, and run that. For example, you could use the policy gradient method you implemented in problems 1-3. In my experience, \"vanilla\" policy gradient methods don't work very well on this problem in a reasonable amount of time, but you may be able to get it working with some tinkering.\n",
    "\n",
    "Note: it's quite helpful to plot what the current policy is doing, as a diagnostic. To do this, you can use the `animate_rollout` function in `rl.py`.\n",
    "Also, it's helpful to run simulations in parallel, because simulation is usually the bottleneck on these problems with relatively low-dimensional inputs. See `ppo.py` for an example of how to do this with the multiprocessing module.\n",
    "\n",
    "<div class=\"alert alert-warning\">\n",
    "**Final Deliverable**: implement a policy gradient algorithm for Atari, following guidelines of (1) and (2) above, and perform a comparison of at least two different experimental conditions. E.g. [reference implementation, your variant], or [your idea 1, your idea 2, your idea 3]. Plot learning curves (i.e. the mean episode reward) for all experimental conditions.\n",
    "\n",
    "You may want to write the code outside of this notebook (if so, please include it in a zip file with your submission), but please put the plots **here**.\n",
    "</div>\n",
    "\n"
   ]
  },
  {
   "cell_type": "markdown",
   "metadata": {},
   "source": [
    "### Problem 5: Experiment with MuJoCo / Locomotion\n",
    "\n",
    "For this problem, you will experiment with the MuJoCo domain, and learn a controller that enables a simulated robot character to hop.\n",
    "\n",
    "First, build the required libraries by navigating into the code directory and running\n",
    "\n",
    "    ./setup_mujoco.py\n",
    "    \n",
    "Again, you have the choice of modifying the instructor's implementation or using your own implementation.\n",
    "Follow the exact same instructions as in Problem 4 and plot learning curves showing the performance of your implementation."
   ]
  }
 ],
 "metadata": {
  "kernelspec": {
   "display_name": "Python 2",
   "language": "python",
   "name": "python2"
  },
  "language_info": {
   "codemirror_mode": {
    "name": "ipython",
    "version": 2
   },
   "file_extension": ".py",
   "mimetype": "text/x-python",
   "name": "python",
   "nbconvert_exporter": "python",
   "pygments_lexer": "ipython2",
   "version": "2.7.10"
  }
 },
 "nbformat": 4,
 "nbformat_minor": 0
}
